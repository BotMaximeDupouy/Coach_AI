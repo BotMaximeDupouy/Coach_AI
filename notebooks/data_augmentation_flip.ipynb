{
 "cells": [
  {
   "cell_type": "code",
   "execution_count": 1,
   "id": "a0a054b4",
   "metadata": {},
   "outputs": [
    {
     "name": "stdout",
     "output_type": "stream",
     "text": [
      "/Users/maximedupouy/Desktop/black_frames/jumpingjack\r\n"
     ]
    }
   ],
   "source": [
    "!pwd"
   ]
  },
  {
   "cell_type": "code",
   "execution_count": 2,
   "id": "436171f4",
   "metadata": {},
   "outputs": [],
   "source": [
    "import os\n",
    "files_list = os.listdir('.')\n",
    "files_list = [file for file in files_list if file[-3:] =='jpg']"
   ]
  },
  {
   "cell_type": "code",
   "execution_count": 3,
   "id": "3e229d58",
   "metadata": {},
   "outputs": [
    {
     "name": "stdout",
     "output_type": "stream",
     "text": [
      "Init Plugin\n",
      "Init Graph Optimizer\n",
      "Init Kernel\n"
     ]
    }
   ],
   "source": [
    "from tensorflow.image import flip_left_right\n",
    "from tensorflow.keras.preprocessing.image import load_img\n",
    "from PIL import Image \n",
    "import PIL \n",
    "\n",
    "def augmentated_data_flip(files_list):\n",
    "    for file in files_list :\n",
    "        \n",
    "        img = Image.open(file)\n",
    "        #img_flipped = flip_left_right(img)\n",
    "        img_flipped = img.transpose(Image.FLIP_LEFT_RIGHT)\n",
    "        complete_name = file.split('/')[-1]\n",
    "        sequenced_name = complete_name.split('_')\n",
    "        new_name = f'{sequenced_name[0]}_{sequenced_name[1]}_{sequenced_name[2]}_{sequenced_name[3]}flip_{sequenced_name[4]}'\n",
    "        img = img_flipped.save(new_name)"
   ]
  },
  {
   "cell_type": "code",
   "execution_count": 4,
   "id": "6384231b",
   "metadata": {},
   "outputs": [],
   "source": [
    "augmentated_data_flip(files_list)"
   ]
  }
 ],
 "metadata": {
  "kernelspec": {
   "display_name": "Python 3 (ipykernel)",
   "language": "python",
   "name": "python3"
  },
  "language_info": {
   "codemirror_mode": {
    "name": "ipython",
    "version": 3
   },
   "file_extension": ".py",
   "mimetype": "text/x-python",
   "name": "python",
   "nbconvert_exporter": "python",
   "pygments_lexer": "ipython3",
   "version": "3.8.6"
  },
  "toc": {
   "base_numbering": 1,
   "nav_menu": {},
   "number_sections": true,
   "sideBar": true,
   "skip_h1_title": false,
   "title_cell": "Table of Contents",
   "title_sidebar": "Contents",
   "toc_cell": false,
   "toc_position": {},
   "toc_section_display": true,
   "toc_window_display": false
  }
 },
 "nbformat": 4,
 "nbformat_minor": 5
}
