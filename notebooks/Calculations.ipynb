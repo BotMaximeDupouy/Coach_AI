{
 "cells": [
  {
   "cell_type": "code",
   "execution_count": 2,
   "id": "95809375",
   "metadata": {},
   "outputs": [],
   "source": [
    "import matplotlib.pyplot as plt\n",
    "import numpy as np\n",
    "import pandas as pd"
   ]
  },
  {
   "cell_type": "markdown",
   "id": "ad2c9817",
   "metadata": {},
   "source": [
    "# Notebook for the normalization and distance calculation between the landmarks"
   ]
  },
  {
   "cell_type": "code",
   "execution_count": 3,
   "id": "8ed053e2",
   "metadata": {},
   "outputs": [],
   "source": [
    "#Dictionary indicating the index for each bodypart\n",
    "BODY_POINTS = {\n",
    "    \"Nose\":  0,\n",
    "    \"LEyeIn\": 1,\n",
    "    \"LEye\": 2,\n",
    "    \"LEyeOut\": 3,\n",
    "    \"REyeIn\": 4,\n",
    "    \"REye\": 5,\n",
    "    \"REyeOut\": 6,\n",
    "    \"LEar\": 7,\n",
    "    \"REar\": 8,\n",
    "    \"LMouth\": 9,\n",
    "    \"RMouth\": 10,\n",
    "    \"LShoulder\": 11,\n",
    "    \"RShoulder\": 12,\n",
    "    \"LElbow\": 13,\n",
    "    \"RElbow\": 14,\n",
    "    \"LWrist\": 15,\n",
    "    \"RWrist\": 16,\n",
    "    \"LPinky\": 17,\n",
    "    \"RPinky\": 18,\n",
    "    \"LIndex\": 19,\n",
    "    \"RIndex\": 20,\n",
    "    \"LThumb\": 21,\n",
    "    \"RThumb\": 22,\n",
    "    \"LHip\": 23,\n",
    "    \"RHip\": 24,\n",
    "    \"LKnee\": 25,\n",
    "    \"RKnee\": 26,\n",
    "    \"LAnkle\": 27,\n",
    "    \"RAnkle\": 28,\n",
    "    \"LHeel\": 29,\n",
    "    \"RHeel\": 30,\n",
    "    \"LFoot\": 31,\n",
    "    \"RFoot\": 32\n",
    "    }"
   ]
  },
  {
   "cell_type": "code",
   "execution_count": 5,
   "id": "828dd3ed",
   "metadata": {},
   "outputs": [],
   "source": [
    "def get_pose_center(coordinates):\n",
    "    '''Calculate the centre of the pose, define as the midpoint between point the neck and the mid hip'''\n",
    "    mid_hip = (coordinates[BODY_POINTS['LHip']] + coordinates[BODY_POINTS['RHip']])/2\n",
    "    neck = (coordinates[BODY_POINTS['LShoulder']] + coordinates[BODY_POINTS['RShoulder']])/2\n",
    "    center = (mid_hip + neck)/2\n",
    "    return center "
   ]
  },
  {
   "cell_type": "code",
   "execution_count": 6,
   "id": "a482726f",
   "metadata": {},
   "outputs": [],
   "source": [
    "'''Calculates the distance between two body parts'''\n",
    "def get_distance(coordinates, body_part1, body_part2):\n",
    "    bp1 = coordinates[BODY_POINTS[body_part1]]\n",
    "    bp2 = coordinates[BODY_POINTS[body_part2]]\n",
    "    distance = ((bp1-bp2)*(bp1-bp2)).sum() ** 0.5\n",
    "    return distance"
   ]
  }
 ],
 "metadata": {
  "kernelspec": {
   "display_name": "Python 3 (ipykernel)",
   "language": "python",
   "name": "python3"
  },
  "language_info": {
   "codemirror_mode": {
    "name": "ipython",
    "version": 3
   },
   "file_extension": ".py",
   "mimetype": "text/x-python",
   "name": "python",
   "nbconvert_exporter": "python",
   "pygments_lexer": "ipython3",
   "version": "3.8.6"
  },
  "toc": {
   "base_numbering": 1,
   "nav_menu": {},
   "number_sections": true,
   "sideBar": true,
   "skip_h1_title": false,
   "title_cell": "Table of Contents",
   "title_sidebar": "Contents",
   "toc_cell": false,
   "toc_position": {},
   "toc_section_display": true,
   "toc_window_display": false
  },
  "varInspector": {
   "cols": {
    "lenName": 16,
    "lenType": 16,
    "lenVar": 40
   },
   "kernels_config": {
    "python": {
     "delete_cmd_postfix": "",
     "delete_cmd_prefix": "del ",
     "library": "var_list.py",
     "varRefreshCmd": "print(var_dic_list())"
    },
    "r": {
     "delete_cmd_postfix": ") ",
     "delete_cmd_prefix": "rm(",
     "library": "var_list.r",
     "varRefreshCmd": "cat(var_dic_list()) "
    }
   },
   "types_to_exclude": [
    "module",
    "function",
    "builtin_function_or_method",
    "instance",
    "_Feature"
   ],
   "window_display": false
  }
 },
 "nbformat": 4,
 "nbformat_minor": 5
}
