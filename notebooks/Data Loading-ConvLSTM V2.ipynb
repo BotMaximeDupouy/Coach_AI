{
 "cells": [
  {
   "cell_type": "code",
   "execution_count": 1,
   "id": "d2788288",
   "metadata": {},
   "outputs": [],
   "source": [
    "import numpy as np\n",
    "import pandas as pd\n",
    "import os\n",
    "import json\n",
    "import matplotlib.pyplot as plt\n",
    "from PIL import Image\n",
    "from sklearn.model_selection import train_test_split\n",
    "import os\n",
    "import json\n",
    "import numpy as np\n",
    "from PIL import Image\n",
    "import matplotlib.pyplot as plt\n",
    "from IPython.core.debugger import set_trace\n",
    "import seaborn as sns\n",
    "from tensorflow.keras.models import Sequential\n",
    "from tensorflow.keras.layers import Conv3D\n",
    "from tensorflow.keras.layers import ConvLSTM2D\n",
    "from tensorflow.keras.layers import BatchNormalization\n",
    "from tensorflow.keras.layers import Dense, Dropout\n",
    "from tensorflow.keras.layers import GlobalAveragePooling1D\n",
    "from tensorflow.keras.layers import Flatten\n",
    "from tensorflow.keras.callbacks import EarlyStopping\n",
    "from tensorflow.keras.utils import to_categorical\n",
    "from tensorflow.keras.optimizers import SGD\n",
    "import random"
   ]
  },
  {
   "cell_type": "markdown",
   "id": "de09666a",
   "metadata": {},
   "source": [
    "# Load data"
   ]
  },
  {
   "cell_type": "code",
   "execution_count": 2,
   "id": "c4c9b394",
   "metadata": {},
   "outputs": [],
   "source": [
    "def get_unique_video_names(images_path):\n",
    "    video_names = []\n",
    "    file_list = os.listdir(images_path)\n",
    "    for file in file_list :\n",
    "        if file.endswith('.jpg'):\n",
    "            file = file.split('_')\n",
    "            video_name = f'{file[0]}_{file[1]}_{file[2]}_{file[3]}'\n",
    "            video_names.append(video_name)\n",
    "    unique_video_names = set(video_names)\n",
    "    return list(unique_video_names)"
   ]
  },
  {
   "cell_type": "code",
   "execution_count": 3,
   "id": "d1a49b55",
   "metadata": {},
   "outputs": [],
   "source": [
    "def load_data():\n",
    "    classes = {'pushups':0, 'squats':1, 'cleanjerk':2, 'jumpingjack':3,'lunges':4,'pullups':5} \n",
    "    imgs = []\n",
    "    labels = []\n",
    "    data_path = 'black_frames'\n",
    "    for (cl, i) in classes.items(): \n",
    "        images_path = os.path.join(data_path, cl)\n",
    "        files_list = os.listdir(images_path)\n",
    "        unique_video_names = get_unique_video_names(images_path)\n",
    "        random.shuffle(unique_video_names)\n",
    "        unique_video_names = unique_video_names[0:50]\n",
    "        for name in unique_video_names:\n",
    "            total_frames = [file for file in files_list if file.startswith(name)]\n",
    "            upper_range = len(total_frames)\n",
    "            step = int(upper_range/10)\n",
    "            video_sequence = []\n",
    "            for index in range(0,upper_range,step):\n",
    "                img = f\"{name}_black{index}.jpg\"\n",
    "                path = os.path.join(data_path, cl, img)\n",
    "                image = Image.open(path)\n",
    "                image = image.resize((32,24))\n",
    "                video_sequence.append(np.array(image))\n",
    "                \n",
    "            imgs.append(video_sequence[0:10])\n",
    "            labels.append(i)\n",
    "    return labels, imgs"
   ]
  },
  {
   "cell_type": "code",
   "execution_count": 4,
   "id": "e0eceaa4",
   "metadata": {},
   "outputs": [
    {
     "name": "stdout",
     "output_type": "stream",
     "text": [
      "CPU times: user 7.5 s, sys: 1.33 s, total: 8.82 s\n",
      "Wall time: 14.8 s\n"
     ]
    }
   ],
   "source": [
    "%%time\n",
    "labels, imgs =load_data()"
   ]
  },
  {
   "cell_type": "code",
   "execution_count": 5,
   "id": "cea61d38",
   "metadata": {},
   "outputs": [],
   "source": [
    "X = np.array(imgs)\n",
    "num_classes = len(set(labels))\n",
    "y = to_categorical(labels, num_classes)"
   ]
  },
  {
   "cell_type": "code",
   "execution_count": 6,
   "id": "bd8955b9",
   "metadata": {},
   "outputs": [],
   "source": [
    "p = np.random.permutation(len(X))\n",
    "X, y = X[p], y[p]"
   ]
  },
  {
   "cell_type": "code",
   "execution_count": 7,
   "id": "cda9868f",
   "metadata": {},
   "outputs": [],
   "source": [
    "X_train, X_test, y_train, y_test = train_test_split(X, y, test_size=0.3, random_state=1)"
   ]
  },
  {
   "cell_type": "code",
   "execution_count": 8,
   "id": "82b8c921",
   "metadata": {},
   "outputs": [
    {
     "data": {
      "text/plain": [
       "(210, 10, 24, 32, 3)"
      ]
     },
     "execution_count": 8,
     "metadata": {},
     "output_type": "execute_result"
    }
   ],
   "source": [
    "X_train.shape"
   ]
  },
  {
   "cell_type": "markdown",
   "id": "84c5b6ea",
   "metadata": {},
   "source": [
    "# Model convLSTM"
   ]
  },
  {
   "cell_type": "code",
   "execution_count": 9,
   "id": "876d4065",
   "metadata": {},
   "outputs": [
    {
     "name": "stderr",
     "output_type": "stream",
     "text": [
      "2021-09-03 13:27:09.049679: I tensorflow/core/platform/cpu_feature_guard.cc:142] This TensorFlow binary is optimized with oneAPI Deep Neural Network Library (oneDNN) to use the following CPU instructions in performance-critical operations:  AVX2 FMA\n",
      "To enable them in other operations, rebuild TensorFlow with the appropriate compiler flags.\n"
     ]
    }
   ],
   "source": [
    "model = Sequential()\n",
    "model.add(ConvLSTM2D(filters = 64, kernel_size = (3, 3), data_format='channels_last', return_sequences = False, input_shape = (10, 24, 32, 3)))\n",
    "model.add(Dropout(0.2))\n",
    "model.add(Flatten())\n",
    "model.add(Dense(256, activation=\"relu\"))\n",
    "model.add(Dropout(0.3))\n",
    "model.add(Dense(6, activation = \"softmax\"))\n",
    "\n",
    "opt = SGD(learning_rate=0.001)\n",
    "\n",
    "model.compile(loss='categorical_crossentropy', optimizer=opt, metrics=['accuracy', 'Precision'])"
   ]
  },
  {
   "cell_type": "code",
   "execution_count": 10,
   "id": "59549f88",
   "metadata": {},
   "outputs": [
    {
     "name": "stdout",
     "output_type": "stream",
     "text": [
      "Model: \"sequential\"\n",
      "_________________________________________________________________\n",
      "Layer (type)                 Output Shape              Param #   \n",
      "=================================================================\n",
      "conv_lst_m2d (ConvLSTM2D)    (None, 22, 30, 64)        154624    \n",
      "_________________________________________________________________\n",
      "dropout (Dropout)            (None, 22, 30, 64)        0         \n",
      "_________________________________________________________________\n",
      "flatten (Flatten)            (None, 42240)             0         \n",
      "_________________________________________________________________\n",
      "dense (Dense)                (None, 256)               10813696  \n",
      "_________________________________________________________________\n",
      "dropout_1 (Dropout)          (None, 256)               0         \n",
      "_________________________________________________________________\n",
      "dense_1 (Dense)              (None, 6)                 1542      \n",
      "=================================================================\n",
      "Total params: 10,969,862\n",
      "Trainable params: 10,969,862\n",
      "Non-trainable params: 0\n",
      "_________________________________________________________________\n"
     ]
    }
   ],
   "source": [
    "model.summary()"
   ]
  },
  {
   "cell_type": "code",
   "execution_count": 11,
   "id": "bbf88bc3",
   "metadata": {},
   "outputs": [
    {
     "name": "stdout",
     "output_type": "stream",
     "text": [
      "Epoch 1/40\n"
     ]
    },
    {
     "name": "stderr",
     "output_type": "stream",
     "text": [
      "2021-09-03 13:27:46.988132: I tensorflow/compiler/mlir/mlir_graph_optimization_pass.cc:185] None of the MLIR Optimization Passes are enabled (registered 2)\n"
     ]
    },
    {
     "name": "stdout",
     "output_type": "stream",
     "text": [
      "21/21 [==============================] - 34s 2s/step - loss: 1.8007 - accuracy: 0.2024 - precision: 0.0000e+00 - val_loss: 1.6541 - val_accuracy: 0.3095 - val_precision: 0.0000e+00\n",
      "Epoch 2/40\n",
      "21/21 [==============================] - 29s 1s/step - loss: 1.5188 - accuracy: 0.4107 - precision: 0.0000e+00 - val_loss: 1.5327 - val_accuracy: 0.5714 - val_precision: 0.0000e+00\n",
      "Epoch 3/40\n",
      "21/21 [==============================] - 29s 1s/step - loss: 1.3094 - accuracy: 0.6310 - precision: 1.0000 - val_loss: 1.4162 - val_accuracy: 0.6905 - val_precision: 0.0000e+00\n",
      "Epoch 4/40\n",
      "21/21 [==============================] - 28s 1s/step - loss: 1.1050 - accuracy: 0.8036 - precision: 1.0000 - val_loss: 1.3290 - val_accuracy: 0.7143 - val_precision: 0.0000e+00\n",
      "Epoch 5/40\n",
      "21/21 [==============================] - 30s 1s/step - loss: 0.9490 - accuracy: 0.8452 - precision: 1.0000 - val_loss: 1.2490 - val_accuracy: 0.7381 - val_precision: 1.0000\n",
      "Epoch 6/40\n",
      "21/21 [==============================] - 30s 1s/step - loss: 0.7895 - accuracy: 0.9107 - precision: 0.9867 - val_loss: 1.1591 - val_accuracy: 0.8095 - val_precision: 0.6667\n",
      "Epoch 7/40\n",
      "21/21 [==============================] - 33s 2s/step - loss: 0.6865 - accuracy: 0.9167 - precision: 0.9898 - val_loss: 1.0983 - val_accuracy: 0.8095 - val_precision: 0.8889\n",
      "Epoch 8/40\n",
      "21/21 [==============================] - 37s 2s/step - loss: 0.5856 - accuracy: 0.9464 - precision: 0.9915 - val_loss: 1.0508 - val_accuracy: 0.7857 - val_precision: 0.8462\n",
      "Epoch 9/40\n",
      "21/21 [==============================] - 30s 1s/step - loss: 0.4919 - accuracy: 0.9583 - precision: 1.0000 - val_loss: 1.0043 - val_accuracy: 0.8095 - val_precision: 0.8667\n",
      "Epoch 10/40\n",
      "21/21 [==============================] - 31s 1s/step - loss: 0.4219 - accuracy: 0.9643 - precision: 1.0000 - val_loss: 0.9582 - val_accuracy: 0.7857 - val_precision: 0.9000\n",
      "Epoch 11/40\n",
      "21/21 [==============================] - 29s 1s/step - loss: 0.3764 - accuracy: 0.9821 - precision: 1.0000 - val_loss: 0.9310 - val_accuracy: 0.8095 - val_precision: 0.9000\n",
      "Epoch 12/40\n",
      "21/21 [==============================] - 30s 1s/step - loss: 0.3372 - accuracy: 0.9881 - precision: 1.0000 - val_loss: 0.8985 - val_accuracy: 0.8095 - val_precision: 0.9091\n",
      "Epoch 13/40\n",
      "21/21 [==============================] - 33s 2s/step - loss: 0.3125 - accuracy: 0.9821 - precision: 1.0000 - val_loss: 0.8888 - val_accuracy: 0.8095 - val_precision: 0.9091\n",
      "Epoch 14/40\n",
      "21/21 [==============================] - 32s 2s/step - loss: 0.2598 - accuracy: 0.9881 - precision: 1.0000 - val_loss: 0.8664 - val_accuracy: 0.8095 - val_precision: 0.9048\n",
      "Epoch 15/40\n",
      "21/21 [==============================] - 29s 1s/step - loss: 0.2438 - accuracy: 0.9881 - precision: 1.0000 - val_loss: 0.8520 - val_accuracy: 0.8095 - val_precision: 0.9130\n",
      "Epoch 16/40\n",
      "21/21 [==============================] - 35s 2s/step - loss: 0.2355 - accuracy: 1.0000 - precision: 1.0000 - val_loss: 0.8414 - val_accuracy: 0.8095 - val_precision: 0.9167\n",
      "Epoch 17/40\n",
      "21/21 [==============================] - 30s 1s/step - loss: 0.2129 - accuracy: 1.0000 - precision: 1.0000 - val_loss: 0.8181 - val_accuracy: 0.8095 - val_precision: 0.9259\n",
      "Epoch 18/40\n",
      "21/21 [==============================] - 29s 1s/step - loss: 0.1901 - accuracy: 1.0000 - precision: 1.0000 - val_loss: 0.8095 - val_accuracy: 0.8095 - val_precision: 0.9231\n",
      "Epoch 19/40\n",
      "21/21 [==============================] - 30s 1s/step - loss: 0.1733 - accuracy: 1.0000 - precision: 1.0000 - val_loss: 0.7931 - val_accuracy: 0.8095 - val_precision: 0.8966\n",
      "Epoch 20/40\n",
      "21/21 [==============================] - 32s 2s/step - loss: 0.1554 - accuracy: 1.0000 - precision: 1.0000 - val_loss: 0.7931 - val_accuracy: 0.8095 - val_precision: 0.8966\n",
      "Epoch 21/40\n",
      "21/21 [==============================] - 33s 2s/step - loss: 0.1485 - accuracy: 1.0000 - precision: 1.0000 - val_loss: 0.7809 - val_accuracy: 0.8095 - val_precision: 0.8966\n",
      "Epoch 22/40\n",
      "21/21 [==============================] - 32s 2s/step - loss: 0.1297 - accuracy: 1.0000 - precision: 1.0000 - val_loss: 0.7671 - val_accuracy: 0.7857 - val_precision: 0.8966\n",
      "Epoch 23/40\n",
      "21/21 [==============================] - 34s 2s/step - loss: 0.1187 - accuracy: 1.0000 - precision: 1.0000 - val_loss: 0.7693 - val_accuracy: 0.8333 - val_precision: 0.8966\n",
      "Epoch 24/40\n",
      "21/21 [==============================] - 28s 1s/step - loss: 0.1082 - accuracy: 1.0000 - precision: 1.0000 - val_loss: 0.7549 - val_accuracy: 0.8333 - val_precision: 0.9000\n",
      "Epoch 25/40\n",
      "21/21 [==============================] - 27s 1s/step - loss: 0.1229 - accuracy: 1.0000 - precision: 1.0000 - val_loss: 0.7509 - val_accuracy: 0.8095 - val_precision: 0.9000\n",
      "Epoch 26/40\n",
      "21/21 [==============================] - 28s 1s/step - loss: 0.1207 - accuracy: 1.0000 - precision: 1.0000 - val_loss: 0.7313 - val_accuracy: 0.7857 - val_precision: 0.9000\n",
      "Epoch 27/40\n",
      "21/21 [==============================] - 28s 1s/step - loss: 0.1047 - accuracy: 1.0000 - precision: 1.0000 - val_loss: 0.7345 - val_accuracy: 0.8095 - val_precision: 0.9000\n",
      "Epoch 28/40\n",
      "21/21 [==============================] - 28s 1s/step - loss: 0.0967 - accuracy: 1.0000 - precision: 1.0000 - val_loss: 0.7365 - val_accuracy: 0.8095 - val_precision: 0.9000\n",
      "Epoch 29/40\n",
      "21/21 [==============================] - 28s 1s/step - loss: 0.1001 - accuracy: 1.0000 - precision: 1.0000 - val_loss: 0.7305 - val_accuracy: 0.8095 - val_precision: 0.8966\n",
      "Epoch 30/40\n",
      "21/21 [==============================] - 31s 1s/step - loss: 0.0875 - accuracy: 1.0000 - precision: 1.0000 - val_loss: 0.7125 - val_accuracy: 0.8333 - val_precision: 0.9032\n",
      "Epoch 31/40\n",
      "21/21 [==============================] - 29s 1s/step - loss: 0.0912 - accuracy: 1.0000 - precision: 1.0000 - val_loss: 0.7166 - val_accuracy: 0.8333 - val_precision: 0.8788\n",
      "Epoch 32/40\n",
      "21/21 [==============================] - 30s 1s/step - loss: 0.0785 - accuracy: 1.0000 - precision: 1.0000 - val_loss: 0.7160 - val_accuracy: 0.8333 - val_precision: 0.8750\n",
      "Epoch 33/40\n",
      "21/21 [==============================] - 29s 1s/step - loss: 0.0759 - accuracy: 1.0000 - precision: 1.0000 - val_loss: 0.7208 - val_accuracy: 0.8333 - val_precision: 0.8750\n",
      "Epoch 34/40\n",
      "21/21 [==============================] - 30s 1s/step - loss: 0.0739 - accuracy: 1.0000 - precision: 1.0000 - val_loss: 0.7119 - val_accuracy: 0.8333 - val_precision: 0.9062\n",
      "Epoch 35/40\n",
      "21/21 [==============================] - 29s 1s/step - loss: 0.0826 - accuracy: 1.0000 - precision: 1.0000 - val_loss: 0.7072 - val_accuracy: 0.8333 - val_precision: 0.9062\n",
      "Epoch 36/40\n",
      "21/21 [==============================] - 30s 1s/step - loss: 0.0667 - accuracy: 1.0000 - precision: 1.0000 - val_loss: 0.6983 - val_accuracy: 0.8333 - val_precision: 0.8750\n",
      "Epoch 37/40\n",
      "21/21 [==============================] - 34s 2s/step - loss: 0.0600 - accuracy: 1.0000 - precision: 1.0000 - val_loss: 0.6998 - val_accuracy: 0.8333 - val_precision: 0.8750\n",
      "Epoch 38/40\n",
      "21/21 [==============================] - 36s 2s/step - loss: 0.0635 - accuracy: 1.0000 - precision: 1.0000 - val_loss: 0.6914 - val_accuracy: 0.8333 - val_precision: 0.8750\n",
      "Epoch 39/40\n",
      "21/21 [==============================] - 33s 2s/step - loss: 0.0622 - accuracy: 1.0000 - precision: 1.0000 - val_loss: 0.6879 - val_accuracy: 0.8333 - val_precision: 0.8750\n",
      "Epoch 40/40\n",
      "21/21 [==============================] - 32s 2s/step - loss: 0.0502 - accuracy: 1.0000 - precision: 1.0000 - val_loss: 0.6883 - val_accuracy: 0.8333 - val_precision: 0.8750\n"
     ]
    }
   ],
   "source": [
    "earlystop = EarlyStopping(patience=7)\n",
    "callbacks = [earlystop]\n",
    "\n",
    "history = model.fit(x = X_train, y = y_train, epochs=40, batch_size = 8 , shuffle=True, validation_split=0.2, callbacks=callbacks)"
   ]
  },
  {
   "cell_type": "code",
   "execution_count": 12,
   "id": "7c0cfe14",
   "metadata": {},
   "outputs": [
    {
     "name": "stdout",
     "output_type": "stream",
     "text": [
      "3/3 [==============================] - 4s 1s/step - loss: 0.5263 - accuracy: 0.8333 - precision: 0.9444\n",
      "test_accuracy_vgg = 83.0 %\n",
      "Chance level: 16.7%\n"
     ]
    }
   ],
   "source": [
    "# evaluate\n",
    "res_vgg = model.evaluate(X_test, y_test)\n",
    "\n",
    "test_accuracy_vgg = res_vgg[1]\n",
    "\n",
    "\n",
    "print(f\"test_accuracy_vgg = {round(test_accuracy_vgg,2)*100} %\")\n",
    "\n",
    "#print(f\"test_accuracy = {round(test_accuracy,2)*100} %\")\n",
    "\n",
    "print(f'Chance level: {1./num_classes*100:.1f}%')"
   ]
  },
  {
   "cell_type": "code",
   "execution_count": 13,
   "id": "540182e1",
   "metadata": {},
   "outputs": [],
   "source": [
    "# learning curves\n",
    "def plot_history(history, title='', axs=None, exp_name=\"\"):\n",
    "    if axs is not None:\n",
    "        ax1, ax2 = axs\n",
    "    else:\n",
    "        f, (ax1, ax2) = plt.subplots(1, 2, figsize=(12, 4))\n",
    "    \n",
    "    if len(exp_name) > 0 and exp_name[0] != '_':\n",
    "        exp_name = '_' + exp_name\n",
    "    ax1.plot(history.history['loss'], label='train' + exp_name)\n",
    "    ax1.plot(history.history['val_loss'], label='val' + exp_name)\n",
    "    #ax1.set_ylim(0., 2.2)\n",
    "    ax1.set_title('loss')\n",
    "    ax1.legend()\n",
    "\n",
    "    ax2.plot(history.history['accuracy'], label='train accuracy'  + exp_name)\n",
    "    ax2.plot(history.history['val_accuracy'], label='val accuracy'  + exp_name)\n",
    "    #ax2.set_ylim(0.25, 1.)\n",
    "    ax2.set_title('Accuracy')\n",
    "    ax2.legend()\n",
    "    return (ax1, ax2)"
   ]
  },
  {
   "cell_type": "code",
   "execution_count": 14,
   "id": "d5218d97",
   "metadata": {},
   "outputs": [
    {
     "data": {
      "text/plain": [
       "(<AxesSubplot:title={'center':'loss'}>,\n",
       " <AxesSubplot:title={'center':'Accuracy'}>)"
      ]
     },
     "execution_count": 14,
     "metadata": {},
     "output_type": "execute_result"
    },
    {
     "data": {
      "image/png": "[encoded data removed]",
      "text/plain": [
       "<Figure size 864x288 with 2 Axes>"
      ]
     },
     "metadata": {
      "needs_background": "light"
     },
     "output_type": "display_data"
    }
   ],
   "source": [
    "plot_history(history, title='ConvLSTM')"
   ]
  },
  {
   "cell_type": "code",
   "execution_count": 19,
   "id": "1a9422a8",
   "metadata": {},
   "outputs": [],
   "source": [
    "def load_test_data_from_folder(folder_filepath, name=\"test\"):\n",
    "    imgs = []\n",
    "    video_sequence = []\n",
    "    upper_range = len(os.listdir(folder_filepath))\n",
    "    step = int(upper_range/10)\n",
    "    for index in range(0,upper_range,step):\n",
    "        img = f\"{name}_black{index}.jpg\"\n",
    "        path = os.path.join(folder_filepath, img)\n",
    "        image = Image.open(path)\n",
    "        image = image.resize((32,24))\n",
    "        video_sequence.append(np.array(image))\n",
    "                \n",
    "    imgs.append(video_sequence[0:10])\n",
    "\n",
    "    return imgs"
   ]
  },
  {
   "cell_type": "code",
   "execution_count": 20,
   "id": "402b246e",
   "metadata": {},
   "outputs": [],
   "source": [
    "test = np.array(load_test_data_from_folder('test', 'test3'))"
   ]
  },
  {
   "cell_type": "code",
   "execution_count": 21,
   "id": "0be5d85e",
   "metadata": {},
   "outputs": [
    {
     "data": {
      "text/plain": [
       "(1, 10, 24, 32, 3)"
      ]
     },
     "execution_count": 21,
     "metadata": {},
     "output_type": "execute_result"
    }
   ],
   "source": [
    "test.shape"
   ]
  },
  {
   "cell_type": "code",
   "execution_count": 40,
   "id": "fc4024be",
   "metadata": {},
   "outputs": [
    {
     "name": "stdout",
     "output_type": "stream",
     "text": [
      "You are performing a Lunge\n"
     ]
    }
   ],
   "source": [
    "classes = {0:'Push Up', 1:'Squat', 2:'Clean&Jerk', 3:'Jumping Jack', 4:'Lunge', 5:'Pull Up'} \n",
    "prediction_array = model.predict(test)[0]\n",
    "prediction = np.where(prediction_array == prediction_array.max())[0][0]\n",
    "print(f\"You are performing a {classes[prediction]}\")"
   ]
  },
  {
   "cell_type": "code",
   "execution_count": 32,
   "id": "d3803ed9",
   "metadata": {},
   "outputs": [],
   "source": [
    "y_pred = model.predict(X_test)"
   ]
  },
  {
   "cell_type": "code",
   "execution_count": 41,
   "id": "2c1b0779",
   "metadata": {},
   "outputs": [],
   "source": [
    "pred = []\n",
    "real = []\n",
    "for i in range(0,90):\n",
    "    prediction_array = y_pred[i]\n",
    "    real_array = y_test[i]\n",
    "    pred.append(classes[np.where(prediction_array == prediction_array.max())[0][0]])\n",
    "    real.append(classes[np.where(real_array == real_array.max())[0][0]])"
   ]
  },
  {
   "cell_type": "code",
   "execution_count": 42,
   "id": "653a7512",
   "metadata": {},
   "outputs": [],
   "source": [
    "results = pd.DataFrame(\n",
    "{'real': real,\n",
    "'prediction': pred}\n",
    ")"
   ]
  },
  {
   "cell_type": "code",
   "execution_count": 45,
   "id": "46d4d986",
   "metadata": {},
   "outputs": [],
   "source": [
    "results['outcome']=results['real']==results['prediction']"
   ]
  },
  {
   "cell_type": "code",
   "execution_count": 47,
   "id": "cb268e0b",
   "metadata": {},
   "outputs": [
    {
     "data": {
      "text/html": [
       "<div>\n",
       "<style scoped>\n",
       "    .dataframe tbody tr th:only-of-type {\n",
       "        vertical-align: middle;\n",
       "    }\n",
       "\n",
       "    .dataframe tbody tr th {\n",
       "        vertical-align: top;\n",
       "    }\n",
       "\n",
       "    .dataframe thead th {\n",
       "        text-align: right;\n",
       "    }\n",
       "</style>\n",
       "<table border=\"1\" class=\"dataframe\">\n",
       "  <thead>\n",
       "    <tr style=\"text-align: right;\">\n",
       "      <th></th>\n",
       "      <th>real</th>\n",
       "      <th>prediction</th>\n",
       "      <th>outcome</th>\n",
       "    </tr>\n",
       "  </thead>\n",
       "  <tbody>\n",
       "    <tr>\n",
       "      <th>11</th>\n",
       "      <td>Jumping Jack</td>\n",
       "      <td>Clean&amp;Jerk</td>\n",
       "      <td>False</td>\n",
       "    </tr>\n",
       "    <tr>\n",
       "      <th>14</th>\n",
       "      <td>Clean&amp;Jerk</td>\n",
       "      <td>Squat</td>\n",
       "      <td>False</td>\n",
       "    </tr>\n",
       "    <tr>\n",
       "      <th>16</th>\n",
       "      <td>Jumping Jack</td>\n",
       "      <td>Clean&amp;Jerk</td>\n",
       "      <td>False</td>\n",
       "    </tr>\n",
       "    <tr>\n",
       "      <th>30</th>\n",
       "      <td>Squat</td>\n",
       "      <td>Push Up</td>\n",
       "      <td>False</td>\n",
       "    </tr>\n",
       "    <tr>\n",
       "      <th>35</th>\n",
       "      <td>Jumping Jack</td>\n",
       "      <td>Lunge</td>\n",
       "      <td>False</td>\n",
       "    </tr>\n",
       "    <tr>\n",
       "      <th>36</th>\n",
       "      <td>Lunge</td>\n",
       "      <td>Push Up</td>\n",
       "      <td>False</td>\n",
       "    </tr>\n",
       "    <tr>\n",
       "      <th>44</th>\n",
       "      <td>Jumping Jack</td>\n",
       "      <td>Lunge</td>\n",
       "      <td>False</td>\n",
       "    </tr>\n",
       "    <tr>\n",
       "      <th>57</th>\n",
       "      <td>Lunge</td>\n",
       "      <td>Push Up</td>\n",
       "      <td>False</td>\n",
       "    </tr>\n",
       "    <tr>\n",
       "      <th>60</th>\n",
       "      <td>Clean&amp;Jerk</td>\n",
       "      <td>Pull Up</td>\n",
       "      <td>False</td>\n",
       "    </tr>\n",
       "    <tr>\n",
       "      <th>63</th>\n",
       "      <td>Jumping Jack</td>\n",
       "      <td>Lunge</td>\n",
       "      <td>False</td>\n",
       "    </tr>\n",
       "    <tr>\n",
       "      <th>67</th>\n",
       "      <td>Squat</td>\n",
       "      <td>Jumping Jack</td>\n",
       "      <td>False</td>\n",
       "    </tr>\n",
       "    <tr>\n",
       "      <th>69</th>\n",
       "      <td>Squat</td>\n",
       "      <td>Lunge</td>\n",
       "      <td>False</td>\n",
       "    </tr>\n",
       "    <tr>\n",
       "      <th>78</th>\n",
       "      <td>Squat</td>\n",
       "      <td>Jumping Jack</td>\n",
       "      <td>False</td>\n",
       "    </tr>\n",
       "    <tr>\n",
       "      <th>80</th>\n",
       "      <td>Squat</td>\n",
       "      <td>Lunge</td>\n",
       "      <td>False</td>\n",
       "    </tr>\n",
       "    <tr>\n",
       "      <th>83</th>\n",
       "      <td>Jumping Jack</td>\n",
       "      <td>Clean&amp;Jerk</td>\n",
       "      <td>False</td>\n",
       "    </tr>\n",
       "  </tbody>\n",
       "</table>\n",
       "</div>"
      ],
      "text/plain": [
       "            real    prediction  outcome\n",
       "11  Jumping Jack    Clean&Jerk    False\n",
       "14    Clean&Jerk         Squat    False\n",
       "16  Jumping Jack    Clean&Jerk    False\n",
       "30         Squat       Push Up    False\n",
       "35  Jumping Jack         Lunge    False\n",
       "36         Lunge       Push Up    False\n",
       "44  Jumping Jack         Lunge    False\n",
       "57         Lunge       Push Up    False\n",
       "60    Clean&Jerk       Pull Up    False\n",
       "63  Jumping Jack         Lunge    False\n",
       "67         Squat  Jumping Jack    False\n",
       "69         Squat         Lunge    False\n",
       "78         Squat  Jumping Jack    False\n",
       "80         Squat         Lunge    False\n",
       "83  Jumping Jack    Clean&Jerk    False"
      ]
     },
     "execution_count": 47,
     "metadata": {},
     "output_type": "execute_result"
    }
   ],
   "source": [
    "results[results['outcome']==False]"
   ]
  },
  {
   "cell_type": "code",
   "execution_count": 48,
   "id": "04fd66d0",
   "metadata": {},
   "outputs": [
    {
     "data": {
      "text/plain": [
       "{0, 1, 2, 3, 4, 5}"
      ]
     },
     "execution_count": 48,
     "metadata": {},
     "output_type": "execute_result"
    }
   ],
   "source": [
    "set(labels)"
   ]
  }
 ],
 "metadata": {
  "kernelspec": {
   "display_name": "Python 3 (ipykernel)",
   "language": "python",
   "name": "python3"
  },
  "language_info": {
   "codemirror_mode": {
    "name": "ipython",
    "version": 3
   },
   "file_extension": ".py",
   "mimetype": "text/x-python",
   "name": "python",
   "nbconvert_exporter": "python",
   "pygments_lexer": "ipython3",
   "version": "3.8.6"
  },
  "toc": {
   "base_numbering": 1,
   "nav_menu": {},
   "number_sections": true,
   "sideBar": true,
   "skip_h1_title": false,
   "title_cell": "Table of Contents",
   "title_sidebar": "Contents",
   "toc_cell": false,
   "toc_position": {},
   "toc_section_display": true,
   "toc_window_display": false
  },
  "varInspector": {
   "cols": {
    "lenName": 16,
    "lenType": 16,
    "lenVar": 40
   },
   "kernels_config": {
    "python": {
     "delete_cmd_postfix": "",
     "delete_cmd_prefix": "del ",
     "library": "var_list.py",
     "varRefreshCmd": "print(var_dic_list())"
    },
    "r": {
     "delete_cmd_postfix": ") ",
     "delete_cmd_prefix": "rm(",
     "library": "var_list.r",
     "varRefreshCmd": "cat(var_dic_list()) "
    }
   },
   "types_to_exclude": [
    "module",
    "function",
    "builtin_function_or_method",
    "instance",
    "_Feature"
   ],
   "window_display": false
  }
 },
 "nbformat": 4,
 "nbformat_minor": 5
}
