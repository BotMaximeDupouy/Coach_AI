{
 "cells": [
  {
   "cell_type": "code",
   "execution_count": 1,
   "id": "a98121c5",
   "metadata": {},
   "outputs": [],
   "source": [
    "import cv2\n",
    "import mediapipe as mp\n",
    "import numpy as np"
   ]
  },
  {
   "cell_type": "code",
   "execution_count": 2,
   "id": "f2c176a1",
   "metadata": {},
   "outputs": [],
   "source": [
    "mp_drawing = mp.solutions.drawing_utils\n",
    "mp_drawing_styles = mp.solutions.drawing_styles\n",
    "mp_pose = mp.solutions.pose"
   ]
  },
  {
   "cell_type": "code",
   "execution_count": 5,
   "id": "d7a6b720",
   "metadata": {},
   "outputs": [],
   "source": [
    "cap = cv2.VideoCapture('testvideo/v_JumpingJack_g01_c01.avi')\n",
    "\n",
    "frame_width = int(cap.get(3))\n",
    "frame_height = int(cap.get(4))"
   ]
  },
  {
   "cell_type": "code",
   "execution_count": 6,
   "id": "6414962b",
   "metadata": {},
   "outputs": [
    {
     "name": "stdout",
     "output_type": "stream",
     "text": [
      "0\n"
     ]
    },
    {
     "name": "stderr",
     "output_type": "stream",
     "text": [
      "INFO: Created TensorFlow Lite XNNPACK delegate for CPU.\n"
     ]
    },
    {
     "name": "stdout",
     "output_type": "stream",
     "text": [
      "1\n",
      "2\n",
      "3\n",
      "4\n",
      "5\n",
      "6\n",
      "7\n",
      "8\n",
      "9\n",
      "10\n",
      "11\n",
      "12\n",
      "13\n",
      "14\n",
      "15\n",
      "16\n",
      "17\n",
      "18\n",
      "19\n",
      "20\n",
      "21\n",
      "22\n",
      "23\n",
      "24\n",
      "25\n",
      "26\n",
      "27\n",
      "28\n",
      "29\n",
      "30\n",
      "31\n",
      "32\n",
      "33\n",
      "34\n",
      "35\n",
      "36\n",
      "37\n",
      "38\n",
      "39\n",
      "40\n",
      "41\n",
      "42\n",
      "43\n",
      "44\n",
      "45\n",
      "46\n",
      "47\n",
      "48\n",
      "49\n",
      "50\n",
      "51\n",
      "52\n",
      "53\n",
      "54\n",
      "55\n",
      "56\n",
      "57\n",
      "58\n",
      "59\n",
      "60\n",
      "61\n",
      "62\n",
      "63\n",
      "64\n",
      "65\n",
      "66\n",
      "67\n",
      "68\n",
      "69\n",
      "70\n",
      "71\n",
      "72\n",
      "73\n",
      "74\n",
      "75\n",
      "76\n",
      "77\n",
      "78\n",
      "79\n",
      "80\n",
      "81\n",
      "82\n",
      "83\n",
      "84\n",
      "85\n",
      "86\n",
      "87\n",
      "88\n",
      "89\n",
      "90\n",
      "91\n",
      "92\n"
     ]
    }
   ],
   "source": [
    "outdir, inputflnm = 'testvideo/', 'v_JumpingJack_g01_c01.avi'\n",
    "inflnm, inflext = inputflnm.split('.')\n",
    "out_filename = f'{outdir}{inflnm}_annotated.{inflext}'\n",
    "out = cv2.VideoWriter(out_filename, cv2.VideoWriter_fourcc('M','J','P','G'), 10, (frame_width,frame_height))\n",
    "list_land =[]\n",
    "i=0\n",
    "\n",
    "with mp_pose.Pose(min_detection_confidence=0.5, min_tracking_confidence=0.5) as pose:\n",
    "    while cap.isOpened():\n",
    "        ret, image = cap.read()\n",
    "        if not ret:\n",
    "            break\n",
    "        image = cv2.cvtColor(cv2.flip(image, 1), cv2.COLOR_BGR2RGB)\n",
    "        image.flags.writeable = False\n",
    "        results = pose.process(image)\n",
    "\n",
    "        image.flags.writeable = True\n",
    "        image = cv2.cvtColor(image, cv2.COLOR_RGB2BGR)\n",
    "        \n",
    "        frame_height, frame_width = image.shape[0], image.shape[1]\n",
    "        pose_landmarks = results.pose_landmarks\n",
    "        \n",
    "\n",
    "        pose_landmarks = np.array([[lmk.x * frame_width, lmk.y * frame_height, lmk.z * frame_width]\n",
    "                                 for lmk in pose_landmarks.landmark], dtype=np.float32)\n",
    "        \n",
    "        list_land.append(pose_landmarks)\n",
    "        \n",
    "        mp_drawing.draw_landmarks(image, results.pose_landmarks, mp_pose.POSE_CONNECTIONS, landmark_drawing_spec=mp_drawing_styles.get_default_pose_landmarks_style())\n",
    "        cv2.imshow('MediaPipe Pose', image)\n",
    "        out.write(image)\n",
    "        \n",
    "cap.release()\n",
    "out.release()"
   ]
  },
  {
   "cell_type": "code",
   "execution_count": null,
   "id": "b557406c",
   "metadata": {},
   "outputs": [],
   "source": [
    "list_land[0].shape"
   ]
  },
  {
   "cell_type": "code",
   "execution_count": null,
   "id": "8c9ba905",
   "metadata": {},
   "outputs": [],
   "source": [
    "'''Calculates the distance between two body parts'''\n",
    "def get_distance(coordinates, body_part1, body_part2):\n",
    "    bp1 = coordinates[body_part1]\n",
    "    bp2 = coordinates[body_part2]\n",
    "    distance = ((bp1-bp2)*(bp1-bp2)).sum() ** 0.5\n",
    "    return distance"
   ]
  },
  {
   "cell_type": "code",
   "execution_count": null,
   "id": "4f7a2fce",
   "metadata": {},
   "outputs": [],
   "source": [
    "dist_list_ankles=[]\n",
    "dist_list_wrists=[]\n",
    "dist_list_wrist_shoulder=[]\n",
    "dist_list_knee_hip=[]\n",
    "\n",
    "for array in list_land:\n",
    "    dist_list_ankles.append(get_distance(array, 28, 27))\n",
    "    dist_list_wrists.append(get_distance(array, 15, 16))\n",
    "    dist_list_wrist_shoulder.append(get_distance(array, 12, 16))\n",
    "    dist_list_knee_hip.append(get_distance(array, 26, 24))"
   ]
  },
  {
   "cell_type": "code",
   "execution_count": null,
   "id": "a83e95d0",
   "metadata": {},
   "outputs": [],
   "source": [
    "import matplotlib.pyplot as plt"
   ]
  },
  {
   "cell_type": "code",
   "execution_count": null,
   "id": "1f84b2c5",
   "metadata": {},
   "outputs": [],
   "source": [
    "plt.plot(dist_list_ankles)"
   ]
  },
  {
   "cell_type": "code",
   "execution_count": null,
   "id": "d4a0a271",
   "metadata": {},
   "outputs": [],
   "source": [
    "plt.plot(dist_list_knee_hip)"
   ]
  },
  {
   "cell_type": "code",
   "execution_count": null,
   "id": "8bb4acad",
   "metadata": {},
   "outputs": [],
   "source": [
    "plt.plot(dist_list_wrist_shoulder)"
   ]
  },
  {
   "cell_type": "code",
   "execution_count": null,
   "id": "19ae5825",
   "metadata": {},
   "outputs": [],
   "source": [
    "plt.plot(dist_list_wrists)"
   ]
  },
  {
   "cell_type": "code",
   "execution_count": null,
   "id": "c4050b7d",
   "metadata": {},
   "outputs": [],
   "source": [
    "cap = cv2.VideoCapture('testvideo/v_PushUps_g13_c03.avi')\n",
    "\n",
    "frame_width = int(cap.get(3))\n",
    "frame_height = int(cap.get(4))"
   ]
  },
  {
   "cell_type": "code",
   "execution_count": null,
   "id": "ce88e3e5",
   "metadata": {},
   "outputs": [],
   "source": [
    "outdir, inputflnm = 'testvideo/', 'v_PushUps_g13_c03.avi'\n",
    "inflnm, inflext = inputflnm.split('.')\n",
    "out_filename = f'{outdir}{inflnm}_annotated.{inflext}'\n",
    "out = cv2.VideoWriter(out_filename, cv2.VideoWriter_fourcc('M','J','P','G'), 10, (frame_width,frame_height))\n",
    "list_land =[]\n",
    "\n",
    "with mp_pose.Pose(min_detection_confidence=0.5, min_tracking_confidence=0.5) as pose:\n",
    "    while cap.isOpened():\n",
    "        ret, image = cap.read()\n",
    "        if not ret:\n",
    "            break\n",
    "        \n",
    "        image = cv2.cvtColor(cv2.flip(image, 1), cv2.COLOR_BGR2RGB)\n",
    "        image.flags.writeable = False\n",
    "        results = pose.process(image)\n",
    "\n",
    "        image.flags.writeable = True\n",
    "        image = cv2.cvtColor(image, cv2.COLOR_RGB2BGR)\n",
    "        \n",
    "        frame_height, frame_width = image.shape[0], image.shape[1]\n",
    "        pose_landmarks = results.pose_landmarks\n",
    "        pose_landmarks = np.array([[lmk.x * frame_width, lmk.y * frame_height, lmk.z * frame_width]\n",
    "                                 for lmk in pose_landmarks.landmark], dtype=np.float32)\n",
    "        \n",
    "        list_land.append(pose_landmarks)\n",
    "        \n",
    "        mp_drawing.draw_landmarks(image, results.pose_landmarks, mp_pose.POSE_CONNECTIONS, landmark_drawing_spec=mp_drawing_styles.get_default_pose_landmarks_style())\n",
    "        cv2.imshow('MediaPipe Pose', image)\n",
    "        out.write(image)     \n",
    "cap.release()\n",
    "out.release()"
   ]
  },
  {
   "cell_type": "code",
   "execution_count": null,
   "id": "a69a3bba",
   "metadata": {},
   "outputs": [],
   "source": [
    "dist_list_ankles=[]\n",
    "dist_list_wrists=[]\n",
    "dist_list_wrist_shoulder=[]\n",
    "dist_list_knee_hip=[]\n",
    "\n",
    "for array in list_land:\n",
    "    dist_list_ankles.append(get_distance(array, 28, 27))\n",
    "    dist_list_wrists.append(get_distance(array, 15, 16))\n",
    "    dist_list_wrist_shoulder.append(get_distance(array, 12, 16))\n",
    "    dist_list_knee_hip.append(get_distance(array, 26, 24))"
   ]
  },
  {
   "cell_type": "code",
   "execution_count": null,
   "id": "f285f1df",
   "metadata": {},
   "outputs": [],
   "source": [
    "plt.plot(dist_list_wrist_shoulder)"
   ]
  }
 ],
 "metadata": {
  "kernelspec": {
   "display_name": "Python 3 (ipykernel)",
   "language": "python",
   "name": "python3"
  },
  "language_info": {
   "codemirror_mode": {
    "name": "ipython",
    "version": 3
   },
   "file_extension": ".py",
   "mimetype": "text/x-python",
   "name": "python",
   "nbconvert_exporter": "python",
   "pygments_lexer": "ipython3",
   "version": "3.8.6"
  },
  "toc": {
   "base_numbering": 1,
   "nav_menu": {},
   "number_sections": true,
   "sideBar": true,
   "skip_h1_title": false,
   "title_cell": "Table of Contents",
   "title_sidebar": "Contents",
   "toc_cell": false,
   "toc_position": {},
   "toc_section_display": true,
   "toc_window_display": false
  },
  "varInspector": {
   "cols": {
    "lenName": 16,
    "lenType": 16,
    "lenVar": 40
   },
   "kernels_config": {
    "python": {
     "delete_cmd_postfix": "",
     "delete_cmd_prefix": "del ",
     "library": "var_list.py",
     "varRefreshCmd": "print(var_dic_list())"
    },
    "r": {
     "delete_cmd_postfix": ") ",
     "delete_cmd_prefix": "rm(",
     "library": "var_list.r",
     "varRefreshCmd": "cat(var_dic_list()) "
    }
   },
   "types_to_exclude": [
    "module",
    "function",
    "builtin_function_or_method",
    "instance",
    "_Feature"
   ],
   "window_display": false
  }
 },
 "nbformat": 4,
 "nbformat_minor": 5
}
